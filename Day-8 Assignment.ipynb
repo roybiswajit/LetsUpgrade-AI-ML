{
 "cells": [
  {
   "cell_type": "code",
   "execution_count": 2,
   "metadata": {},
   "outputs": [],
   "source": [
    "#Recreate “NB 21 map, filter, lambda.ipynb” to try different variations or perform different calculations from\n",
    "#the ones that are in the NB"
   ]
  },
  {
   "cell_type": "code",
   "execution_count": 33,
   "metadata": {},
   "outputs": [
    {
     "name": "stdout",
     "output_type": "stream",
     "text": [
      "[5, 7, 9]\n",
      "['1', '2', '3', '4', '5']\n",
      "9\n",
      "20\n",
      "[1, 4, 9, 16, 25, 36, 49, 64, 81, 100]\n"
     ]
    },
    {
     "data": {
      "text/plain": [
       "[49, 64, 81, 100, 10000, 529, 2025, 4489, 7569, 529, 2025]"
      ]
     },
     "execution_count": 33,
     "metadata": {},
     "output_type": "execute_result"
    }
   ],
   "source": [
    "#map function \n",
    "\n",
    "def addtion(a,b):\n",
    "    return a +b\n",
    "\n",
    "lst_1=[1,2,3]\n",
    "lst_2=[4,5,6]\n",
    "\n",
    "val=map(addtion,lst_1,lst_2)\n",
    "print(list(val))\n",
    "\n",
    "#map to convert to string \n",
    "val2=map(str,[1,2,3,4,5])\n",
    "print(list(val2))\n",
    "\n",
    "#lambda function \n",
    "lamb=lambda x,y:x+y\n",
    "print(lamb(5,4))\n",
    "\n",
    "#lambda function inside another function\n",
    "def double_number(p):\n",
    "    return lambda z:z*p\n",
    "\n",
    "num_double=double_number(2)\n",
    "print(num_double(10))\n",
    "\n",
    "\n",
    "lst_square=map(lambda x:x**2,[1,2,3,4,5,6,7,8,9,10])\n",
    "print(list(lst_square))\n",
    "\n",
    "\n",
    "#filter function \n",
    "flt_elm=[1,2,3,4,5,6,7,8,9,10,100,23,45,67,87,23,45]\n",
    "\n",
    "filterd_elm=filter(lambda x:x>6,flt_elm)\n",
    "list(filterd_elm)\n",
    "\n",
    "#applying all theree function\n",
    "lst_map=map(lambda x:x*x,filter(lambda x:x>6,flt_elm))\n",
    "list(lst_map)\n"
   ]
  },
  {
   "cell_type": "code",
   "execution_count": 34,
   "metadata": {},
   "outputs": [],
   "source": [
    "#Recreate your own Python NB for “Classes and Objects” from the pdf provided namely\n",
    "#“Classes&Objects.pdf”"
   ]
  },
  {
   "cell_type": "code",
   "execution_count": 41,
   "metadata": {},
   "outputs": [
    {
     "name": "stdout",
     "output_type": "stream",
     "text": [
      "student name Biswajit sudent course AI/ML\n"
     ]
    }
   ],
   "source": [
    "class student: \n",
    "    def __init__(self, name, age):\n",
    "        self.name = name\n",
    "        self.course = age\n",
    "        \n",
    "\n",
    "        \n",
    "        \n",
    "std1=student(\"Biswajit\",\"AI/ML\")\n",
    "print(\"student name\",std1.name,\"sudent course\",std1.course)\n",
    "\n"
   ]
  }
 ],
 "metadata": {
  "kernelspec": {
   "display_name": "Python 3",
   "language": "python",
   "name": "python3"
  },
  "language_info": {
   "codemirror_mode": {
    "name": "ipython",
    "version": 3
   },
   "file_extension": ".py",
   "mimetype": "text/x-python",
   "name": "python",
   "nbconvert_exporter": "python",
   "pygments_lexer": "ipython3",
   "version": "3.6.5"
  }
 },
 "nbformat": 4,
 "nbformat_minor": 2
}
