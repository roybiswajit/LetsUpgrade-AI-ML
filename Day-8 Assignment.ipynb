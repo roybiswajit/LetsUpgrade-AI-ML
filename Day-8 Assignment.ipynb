{
 "cells": [
  {
   "cell_type": "code",
   "execution_count": 2,
   "metadata": {},
   "outputs": [
    {
     "name": "stdout",
     "output_type": "stream",
     "text": [
      "[5, 7, 9]\n",
      "['1', '2', '3', '4', '5']\n",
      "9\n",
      "20\n",
      "[1, 4, 9, 16, 25, 36, 49, 64, 81, 100]\n"
     ]
    },
    {
     "data": {
      "text/plain": [
       "[49, 64, 81, 100, 10000, 529, 2025, 4489, 7569, 529, 2025]"
      ]
     },
     "execution_count": 2,
     "metadata": {},
     "output_type": "execute_result"
    }
   ],
   "source": [
    "#map function \n",
    "\n",
    "def addtion(a,b):\n",
    "    return a +b\n",
    "\n",
    "lst_1=[1,2,3]\n",
    "lst_2=[4,5,6]\n",
    "\n",
    "val=map(addtion,lst_1,lst_2)\n",
    "print(list(val))\n",
    "\n",
    "#map to convert to string \n",
    "val2=map(str,[1,2,3,4,5])\n",
    "print(list(val2))\n",
    "\n",
    "#lambda function \n",
    "lamb=lambda x,y:x+y\n",
    "print(lamb(5,4))\n",
    "\n",
    "#lambda function inside another function\n",
    "def double_number(p):\n",
    "    return lambda z:z*p\n",
    "\n",
    "num_double=double_number(2)\n",
    "print(num_double(10))\n",
    "\n",
    "\n",
    "lst_square=map(lambda x:x**2,[1,2,3,4,5,6,7,8,9,10])\n",
    "print(list(lst_square))\n",
    "\n",
    "\n",
    "#filter function \n",
    "flt_elm=[1,2,3,4,5,6,7,8,9,10,100,23,45,67,87,23,45]\n",
    "\n",
    "filterd_elm=filter(lambda x:x>6,flt_elm)\n",
    "list(filterd_elm)\n",
    "\n",
    "#applying all theree function\n",
    "lst_map=map(lambda x:x*x,filter(lambda x:x>6,flt_elm))\n",
    "list(lst_map)\n"
   ]
  },
  {
   "cell_type": "code",
   "execution_count": 3,
   "metadata": {},
   "outputs": [
    {
     "name": "stdout",
     "output_type": "stream",
     "text": [
      "student name Biswajit sudent course AI/ML\n",
      "eligible for course\n",
      "eligible for course\n",
      "the course time is 3 months\n"
     ]
    },
    {
     "data": {
      "text/plain": [
       "('work exp of',\n",
       " '11',\n",
       " 'months and company name is',\n",
       " 'letsupgrade',\n",
       " 'location',\n",
       " 'not disclosed')"
      ]
     },
     "execution_count": 3,
     "metadata": {},
     "output_type": "execute_result"
    }
   ],
   "source": [
    "class student: \n",
    "    def __init__(self, name,course,age):\n",
    "        self.name = name\n",
    "        self.course = course\n",
    "        self.age=age\n",
    "        \n",
    "    def student_eligiblity(self):\n",
    "        if self.age>20:\n",
    "            return \"eligible for course\"\n",
    "        else:\n",
    "            return \"not eligible for course\"\n",
    "        \n",
    "\n",
    "        \n",
    "        \n",
    "std1=student(\"Biswajit\",\"AI/ML\",27)\n",
    "val=std1.student_eligiblity()\n",
    "\n",
    "print(\"student name\",std1.name,\"sudent course\",std1.course)\n",
    "print(val)\n",
    "\n",
    "class studentdetails(student):\n",
    "    \n",
    "    course_time=3\n",
    "    course_type=\"months\"\n",
    "    \n",
    "    def student_eligiblity(self):\n",
    "        if self.age>30:\n",
    "            return \"eligible for course\"\n",
    "        else:\n",
    "            return \"not eligible for course\"\n",
    " \n",
    "    def student_eligiblity(self):\n",
    "        output=super().student_eligiblity()\n",
    "        print(output)\n",
    "        \n",
    "    def student_workexp_withdetails(self,months,companyname,location=\"not disclosed\"):\n",
    "        return \"work exp of\",months,\"months and company name is\",companyname,\"location\",location\n",
    "    \n",
    "    def student_workexp(self,months):\n",
    "        return \"work exp of\",months,\"months\"\n",
    "        \n",
    "std_details=studentdetails(\"biswajit\",\"python\",28)\n",
    "std_details.student_eligiblity()\n",
    "print(\"the course time is\",std_details.course_time,std_details.course_type)\n",
    "\n",
    "std_details.student_workexp(\"11\")\n",
    "std_details.student_workexp_withdetails(\"11\",\"letsupgrade\")\n",
    "\n",
    "    \n"
   ]
  }
 ],
 "metadata": {
  "kernelspec": {
   "display_name": "Python 3",
   "language": "python",
   "name": "python3"
  },
  "language_info": {
   "codemirror_mode": {
    "name": "ipython",
    "version": 3
   },
   "file_extension": ".py",
   "mimetype": "text/x-python",
   "name": "python",
   "nbconvert_exporter": "python",
   "pygments_lexer": "ipython3",
   "version": "3.6.5"
  }
 },
 "nbformat": 4,
 "nbformat_minor": 2
}
