{
  "nbformat": 4,
  "nbformat_minor": 0,
  "metadata": {
    "colab": {
      "name": "Untitled0.ipynb",
      "provenance": []
    },
    "kernelspec": {
      "name": "python3",
      "display_name": "Python 3"
    }
  },
  "cells": [
    {
      "cell_type": "code",
      "metadata": {
        "id": "uqAuPveWk9j_",
        "colab_type": "code",
        "colab": {}
      },
      "source": [
        ""
      ],
      "execution_count": null,
      "outputs": []
    },
    {
      "cell_type": "markdown",
      "metadata": {
        "id": "994MZolm3OrJ",
        "colab_type": "text"
      },
      "source": [
        "\n",
        "mroy.biswajit@gmail.com **submitted by Biswajit Roy**"
      ]
    },
    {
      "cell_type": "markdown",
      "metadata": {
        "id": "LxEqrAH9lBu2",
        "colab_type": "text"
      },
      "source": [
        "Write a program to subtract two complex numbers in Python."
      ]
    },
    {
      "cell_type": "code",
      "metadata": {
        "id": "Al09ybcLlIjW",
        "colab_type": "code",
        "colab": {
          "base_uri": "https://localhost:8080/",
          "height": 34
        },
        "outputId": "fda98ef5-98cd-404b-c3d9-70424b60a22c"
      },
      "source": [
        "first_num=3+6j\n",
        "second_num=2+2j\n",
        "result=first_num-second_num\n",
        "print(result)"
      ],
      "execution_count": 1,
      "outputs": [
        {
          "output_type": "stream",
          "text": [
            "(1+4j)\n"
          ],
          "name": "stdout"
        }
      ]
    },
    {
      "cell_type": "markdown",
      "metadata": {
        "id": "eVHBMCRSlzNS",
        "colab_type": "text"
      },
      "source": [
        "Write a program to find the fourth root of a number."
      ]
    },
    {
      "cell_type": "code",
      "metadata": {
        "id": "LnjQsnHil596",
        "colab_type": "code",
        "colab": {
          "base_uri": "https://localhost:8080/",
          "height": 34
        },
        "outputId": "2a96c691-0271-4308-f89e-b08072b54e56"
      },
      "source": [
        "num=81\n",
        "result= num**(1/float(4.0))\n",
        "print(result)"
      ],
      "execution_count": 2,
      "outputs": [
        {
          "output_type": "stream",
          "text": [
            "3.0\n"
          ],
          "name": "stdout"
        }
      ]
    },
    {
      "cell_type": "markdown",
      "metadata": {
        "id": "1o1L2wXRm7Dq",
        "colab_type": "text"
      },
      "source": [
        "Write a program to swap two numbers in Python with the help of a temporary variable."
      ]
    },
    {
      "cell_type": "code",
      "metadata": {
        "id": "b6LjxiU4m-4g",
        "colab_type": "code",
        "colab": {
          "base_uri": "https://localhost:8080/",
          "height": 51
        },
        "outputId": "9335a667-d976-49ca-cb6d-a5286b0492d2"
      },
      "source": [
        "first_num=10\n",
        "second_num=5\n",
        "print(\"the value of first num after swap is:\",first_num,\"& second value:\",second_num)\n",
        "temp=first_num\n",
        "first_num=second_num\n",
        "second_num=temp\n",
        "print(\"the value of first num after swap is:\",first_num,\"& second value:\",second_num)"
      ],
      "execution_count": 7,
      "outputs": [
        {
          "output_type": "stream",
          "text": [
            "the value of first num after swap is: 10 & second value: 5\n",
            "the value of first num after swap is: 5 & second value: 10\n"
          ],
          "name": "stdout"
        }
      ]
    },
    {
      "cell_type": "markdown",
      "metadata": {
        "id": "0wlCyqxgoxaM",
        "colab_type": "text"
      },
      "source": [
        "Write a program to swap two numbers in Python without using a temporary variable."
      ]
    },
    {
      "cell_type": "code",
      "metadata": {
        "id": "PseJD6VooyRb",
        "colab_type": "code",
        "colab": {
          "base_uri": "https://localhost:8080/",
          "height": 68
        },
        "outputId": "3b1e3507-ec2b-4c8c-aacd-9f82dd597bb1"
      },
      "source": [
        "first_num=20\n",
        "second_num=30\n",
        "print(\"the value of first num after swap is:\",first_num,\"& second value:\",second_num)\n",
        "first_num=first_num*second_num\n",
        "second_num = first_num // second_num;  \n",
        "first_num = first_num// second_num; \n",
        "\n",
        "print(\"the value of first num after swap is:\",first_num,\"& second value:\",second_num)"
      ],
      "execution_count": 19,
      "outputs": [
        {
          "output_type": "stream",
          "text": [
            "the value of first num after swap is: 20 & second value: 30\n",
            "20.0\n",
            "the value of first num after swap is: 30 & second value: 20\n"
          ],
          "name": "stdout"
        }
      ]
    },
    {
      "cell_type": "markdown",
      "metadata": {
        "id": "pXUc_R__qcO8",
        "colab_type": "text"
      },
      "source": [
        "Write a program to convert Fahrenheit to kelvin and celsius both."
      ]
    },
    {
      "cell_type": "code",
      "metadata": {
        "id": "osReG7t8qjHk",
        "colab_type": "code",
        "colab": {
          "base_uri": "https://localhost:8080/",
          "height": 34
        },
        "outputId": "865b7f0b-0408-4f57-e535-794430f10fb2"
      },
      "source": [
        "fahrenheit=100\n",
        "celcius=((fahrenheit-32)/9)*5\n",
        "kelvin=((fahrenheit-32)/9)*5 + 273.15 \n",
        "\n",
        "print(fahrenheit,\"Degree Fahrenheit in celsius is\",\"%.2f\" % c,\"& in kelvin\",\"%.2f\" % c)"
      ],
      "execution_count": 18,
      "outputs": [
        {
          "output_type": "stream",
          "text": [
            "100 Degree Fahrenheit in celsius is 37.78 & in kelvin 37.78\n"
          ],
          "name": "stdout"
        }
      ]
    },
    {
      "cell_type": "markdown",
      "metadata": {
        "id": "XvNpfQ9euWXH",
        "colab_type": "text"
      },
      "source": [
        "Write a program to demonstrate all the available data types in Python. Hint: Use type() function."
      ]
    },
    {
      "cell_type": "code",
      "metadata": {
        "id": "1uBDozgYuZvd",
        "colab_type": "code",
        "colab": {
          "base_uri": "https://localhost:8080/",
          "height": 170
        },
        "outputId": "846159df-9f8f-459b-a7b7-3ec7a136de0a"
      },
      "source": [
        "first_data_type=10\n",
        "second_data_type=10.00\n",
        "third_type=\"python\"\n",
        "fourth_type=[1,2,3]\n",
        "fifth_type=(1,2,3)\n",
        "sixth_type={\"x\":1,\"y\":2}\n",
        "eighth_type={1,2,3}\n",
        "seventh_type=True\n",
        "ninth_type=6+4j\n",
        "\n",
        "print(type(first_data_type))\n",
        "print(type(second_data_type))\n",
        "print(type(third_type))\n",
        "print(type(fourth_type))\n",
        "print(type(fifth_type))\n",
        "print(type(sixth_type))\n",
        "print(type(seventh_type))\n",
        "print(type(eighth_type))\n",
        "print(type(ninth_type))\n",
        "\n"
      ],
      "execution_count": 33,
      "outputs": [
        {
          "output_type": "stream",
          "text": [
            "<class 'int'>\n",
            "<class 'float'>\n",
            "<class 'str'>\n",
            "<class 'list'>\n",
            "<class 'tuple'>\n",
            "<class 'dict'>\n",
            "<class 'bool'>\n",
            "<class 'set'>\n",
            "<class 'complex'>\n"
          ],
          "name": "stdout"
        }
      ]
    }
  ]
}