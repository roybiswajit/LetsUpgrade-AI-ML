{
  "nbformat": 4,
  "nbformat_minor": 0,
  "metadata": {
    "colab": {
      "name": "Copy of Untitled2.ipynb",
      "provenance": []
    },
    "kernelspec": {
      "name": "python3",
      "display_name": "Python 3"
    }
  },
  "cells": [
    {
      "cell_type": "markdown",
      "metadata": {
        "id": "FF5Bsm439jND",
        "colab_type": "text"
      },
      "source": [
        "Write a Python program to find the first 20 non-even prime natural numbers."
      ]
    },
    {
      "cell_type": "code",
      "metadata": {
        "id": "LJ3qBrUpAs9S",
        "colab_type": "code",
        "colab": {
          "base_uri": "https://localhost:8080/",
          "height": 884
        },
        "outputId": "5c17f1b3-63c9-42a1-8919-7b263535b9cf"
      },
      "source": [
        "primenum_count=int(input(\"how many primen numbers you want\"))\n",
        "count=0\n",
        "num = 3\n",
        "\n",
        "while count<primenum_count:\n",
        "  for i in range(2,num):\n",
        "    if (num % i) == 0:\n",
        "        num=num+1\n",
        "        break\n",
        "  else:\n",
        "     print(num,\"is a prime number\")\n",
        "     count=count+1\n",
        "     num=num+1\n",
        "\n",
        "\n",
        "\n",
        "\n",
        "\n",
        "\n",
        "    \n",
        "    \n"
      ],
      "execution_count": null,
      "outputs": [
        {
          "output_type": "stream",
          "text": [
            "how many primen numbers you want50\n",
            "3 is a prime number\n",
            "5 is a prime number\n",
            "7 is a prime number\n",
            "11 is a prime number\n",
            "13 is a prime number\n",
            "17 is a prime number\n",
            "19 is a prime number\n",
            "23 is a prime number\n",
            "29 is a prime number\n",
            "31 is a prime number\n",
            "37 is a prime number\n",
            "41 is a prime number\n",
            "43 is a prime number\n",
            "47 is a prime number\n",
            "53 is a prime number\n",
            "59 is a prime number\n",
            "61 is a prime number\n",
            "67 is a prime number\n",
            "71 is a prime number\n",
            "73 is a prime number\n",
            "79 is a prime number\n",
            "83 is a prime number\n",
            "89 is a prime number\n",
            "97 is a prime number\n",
            "101 is a prime number\n",
            "103 is a prime number\n",
            "107 is a prime number\n",
            "109 is a prime number\n",
            "113 is a prime number\n",
            "127 is a prime number\n",
            "131 is a prime number\n",
            "137 is a prime number\n",
            "139 is a prime number\n",
            "149 is a prime number\n",
            "151 is a prime number\n",
            "157 is a prime number\n",
            "163 is a prime number\n",
            "167 is a prime number\n",
            "173 is a prime number\n",
            "179 is a prime number\n",
            "181 is a prime number\n",
            "191 is a prime number\n",
            "193 is a prime number\n",
            "197 is a prime number\n",
            "199 is a prime number\n",
            "211 is a prime number\n",
            "223 is a prime number\n",
            "227 is a prime number\n",
            "229 is a prime number\n",
            "233 is a prime number\n"
          ],
          "name": "stdout"
        }
      ]
    },
    {
      "cell_type": "markdown",
      "metadata": {
        "id": "t9scXlXnkSsv",
        "colab_type": "text"
      },
      "source": [
        "Write a Python program to implement 15 functions of string."
      ]
    },
    {
      "cell_type": "code",
      "metadata": {
        "id": "ThvfWFXAkUWQ",
        "colab_type": "code",
        "colab": {
          "base_uri": "https://localhost:8080/",
          "height": 309
        },
        "outputId": "2d78691c-1975-42f7-82d6-670679982f6b"
      },
      "source": [
        "check_string=\"   i am a python and AI/ML student, also a working professional. I am writing this string on 6 th of aug \"\n",
        "\n",
        "#capitalize \n",
        "print(check_string.capitalize())\n",
        "\n",
        "#lowercase \n",
        "print(\"HELLO\".casefold())\n",
        "\n",
        "#replace \n",
        "print(check_string.replace(\"student\",\"professional\"))\n",
        "\n",
        "#check if numeric or not \n",
        "print(check_string.isnumeric())\n",
        "\n",
        "#strip white space\n",
        "print(check_string.strip())\n",
        "\n",
        "#split the words \n",
        "print(check_string.split())\n",
        "\n",
        "#convert first character of each words in upper case\n",
        "print(check_string.title())\n",
        "\n",
        "#how many times character appear in each words\n",
        "print(check_string.count(\"a\"))\n",
        "\n",
        "#add padding to center the string\n",
        "print(check_string.center(100))\n",
        "\n",
        "#check if string in uppercase\n",
        "print(check_string.isupper())\n",
        "\n",
        "#check if string in lowercase\n",
        "print(check_string.islower())\n",
        "\n",
        "#if all char is alphanumeric\n",
        "print(check_string.isalnum())\n",
        "\n",
        "#if all char is numeric\n",
        "print(\"123435\".isnumeric())\n",
        "\n",
        "#partition returns a tuple of three eliment\n",
        "print(check_string.partition(\"professional\"))\n",
        "\n",
        "\n",
        "#ends with a specific char or not \n",
        "print(check_string.endswith(\"aug \"))\n",
        "\n",
        "#start with a specific char or not \n",
        "print(check_string.strip().startswith(\"i\"))\n"
      ],
      "execution_count": null,
      "outputs": [
        {
          "output_type": "stream",
          "text": [
            "   i am a python and ai/ml student, also a working professional. i am writing this string on 6 th of aug \n",
            "hello\n",
            "   i am a python and AI/ML professional, also a working professional. I am writing this string on 6 th of aug \n",
            "False\n",
            "i am a python and AI/ML student, also a working professional. I am writing this string on 6 th of aug\n",
            "['i', 'am', 'a', 'python', 'and', 'AI/ML', 'student,', 'also', 'a', 'working', 'professional.', 'I', 'am', 'writing', 'this', 'string', 'on', '6', 'th', 'of', 'aug']\n",
            "   I Am A Python And Ai/Ml Student, Also A Working Professional. I Am Writing This String On 6 Th Of Aug \n",
            "8\n",
            "   i am a python and AI/ML student, also a working professional. I am writing this string on 6 th of aug \n",
            "False\n",
            "False\n",
            "False\n",
            "True\n",
            "('   i am a python and AI/ML student, also a working ', 'professional', '. I am writing this string on 6 th of aug ')\n",
            "True\n",
            "True\n"
          ],
          "name": "stdout"
        }
      ]
    },
    {
      "cell_type": "markdown",
      "metadata": {
        "id": "52-ef4FMs_y9",
        "colab_type": "text"
      },
      "source": [
        "Write a Python program to check if the given string is a Palindrome or Anagram or None of them. Display\n",
        "the message accordingly to the user."
      ]
    },
    {
      "cell_type": "code",
      "metadata": {
        "id": "lfZYrjZwtKok",
        "colab_type": "code",
        "colab": {
          "base_uri": "https://localhost:8080/",
          "height": 51
        },
        "outputId": "cd86e5a9-c135-4ca3-f483-1939ffe01912"
      },
      "source": [
        "s = input(\"Enter the string\")\n",
        "\n",
        "if s==s[::-1]:\n",
        "  print(\"yes, Palindrome string\")\n",
        "else:\n",
        "  print(\"no, not a Palindrome string\")\n",
        "\n",
        "#for anagram check two string input is required, single string cant be checked if anagarm or not becuase the new word might not be a valid word"
      ],
      "execution_count": 21,
      "outputs": [
        {
          "output_type": "stream",
          "text": [
            "Enter the stringmam\n",
            "yes, Palindrome string\n"
          ],
          "name": "stdout"
        }
      ]
    },
    {
      "cell_type": "markdown",
      "metadata": {
        "id": "X9B3f8AloI45",
        "colab_type": "text"
      },
      "source": [
        "Write a Python's user-defined function that removes all the additional characters from the string and\n",
        "convert it finally to lower case using built-in lower(). eg: If the string is \"Dr. Darshan Ingle @AIML Trainer\",\n",
        "then the output be \"drdarshaningleaimltrainer\"."
      ]
    },
    {
      "cell_type": "code",
      "metadata": {
        "id": "jRyVvYu-oRhS",
        "colab_type": "code",
        "colab": {
          "base_uri": "https://localhost:8080/",
          "height": 34
        },
        "outputId": "e5191c72-91dc-47e4-edda-5563aa6b6c88"
      },
      "source": [
        "user_input=\"Dr. Darshan Ingle @AIML Trainer\"\n",
        "user_input=user_input.replace(\"@\",\"\").replace(\".\",\"\").replace(\" \",\"\")\n",
        "print(user_input.lower())"
      ],
      "execution_count": 23,
      "outputs": [
        {
          "output_type": "stream",
          "text": [
            "drdarshaningleaimltrainer\n"
          ],
          "name": "stdout"
        }
      ]
    }
  ]
}