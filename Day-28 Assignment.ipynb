{
  "nbformat": 4,
  "nbformat_minor": 0,
  "metadata": {
    "colab": {
      "name": "Untitled6.ipynb",
      "provenance": []
    },
    "kernelspec": {
      "name": "python3",
      "display_name": "Python 3"
    }
  },
  "cells": [
    {
      "cell_type": "code",
      "metadata": {
        "id": "KkgkZrselERF",
        "outputId": "aa1caa9c-5c45-4b9a-adee-7282cb389023",
        "colab": {
          "base_uri": "https://localhost:8080/",
          "height": 34
        }
      },
      "source": [
        "from sklearn.metrics import accuracy_score\n",
        "data_true=[1,0,1,1,0,0,0,1,1]\n",
        "data_pred=[1,0,1,1,0,0,1,0,0]\n",
        "accuracyscore=accuracy_score(data_true,data_pred)\n",
        "print(accuracyscore)\n",
        "\n",
        "#accuracy=TP+TN/Total numbers"
      ],
      "execution_count": 10,
      "outputs": [
        {
          "output_type": "stream",
          "text": [
            "0.6666666666666666\n"
          ],
          "name": "stdout"
        }
      ]
    },
    {
      "cell_type": "code",
      "metadata": {
        "id": "_Wr8ukfxCdMc",
        "outputId": "83c4c29f-b856-4bc5-9708-fc6b33cb4ceb",
        "colab": {
          "base_uri": "https://localhost:8080/",
          "height": 34
        }
      },
      "source": [
        "from sklearn.metrics import recall_score\n",
        "recall=recall_score(data_true,data_pred,pos_label=1)\n",
        "recall\n",
        "#TruePositives / (TruePositives + FalseNegative)\n",
        "\n"
      ],
      "execution_count": 21,
      "outputs": [
        {
          "output_type": "execute_result",
          "data": {
            "text/plain": [
              "0.6"
            ]
          },
          "metadata": {
            "tags": []
          },
          "execution_count": 21
        }
      ]
    },
    {
      "cell_type": "code",
      "metadata": {
        "id": "JNrCNZj9PxT1",
        "outputId": "4113e209-8dd2-4c32-839d-9dfd24b1356f",
        "colab": {
          "base_uri": "https://localhost:8080/",
          "height": 34
        }
      },
      "source": [
        "from sklearn.metrics import precision_score\n",
        "precision=precision_score(data_true,data_pred)\n",
        "print(precision)\n",
        "#TruePositives / (TruePositives + FalsePositive)"
      ],
      "execution_count": 22,
      "outputs": [
        {
          "output_type": "stream",
          "text": [
            "0.75\n"
          ],
          "name": "stdout"
        }
      ]
    },
    {
      "cell_type": "code",
      "metadata": {
        "id": "m1IPO4cuSfsZ",
        "outputId": "008decc6-6248-44d2-b1ff-d4ba0d1c0b50",
        "colab": {
          "base_uri": "https://localhost:8080/",
          "height": 34
        }
      },
      "source": [
        "f1_score = 2 * precision * recall / (precision + recall)\n",
        "print(f1_score)"
      ],
      "execution_count": 24,
      "outputs": [
        {
          "output_type": "stream",
          "text": [
            "0.6666666666666665\n"
          ],
          "name": "stdout"
        }
      ]
    },
    {
      "cell_type": "code",
      "metadata": {
        "id": "ZIYCXB3ANjqi",
        "outputId": "640b9c33-e1ac-4e97-ad2f-89b99e063487",
        "colab": {
          "base_uri": "https://localhost:8080/",
          "height": 204
        }
      },
      "source": [
        "from sklearn.metrics import confusion_matrix,classification_report\n",
        "matrix = confusion_matrix(data_true,data_pred)\n",
        "print(matrix)\n",
        "\n",
        "report = classification_report(data_true,data_pred)\n",
        "print(report)"
      ],
      "execution_count": 16,
      "outputs": [
        {
          "output_type": "stream",
          "text": [
            "[[3 1]\n",
            " [2 3]]\n",
            "              precision    recall  f1-score   support\n",
            "\n",
            "           0       0.60      0.75      0.67         4\n",
            "           1       0.75      0.60      0.67         5\n",
            "\n",
            "    accuracy                           0.67         9\n",
            "   macro avg       0.68      0.68      0.67         9\n",
            "weighted avg       0.68      0.67      0.67         9\n",
            "\n"
          ],
          "name": "stdout"
        }
      ]
    }
  ]
}