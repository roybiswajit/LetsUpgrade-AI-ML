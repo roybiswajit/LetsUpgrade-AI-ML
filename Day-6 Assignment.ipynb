{
  "nbformat": 4,
  "nbformat_minor": 0,
  "metadata": {
    "colab": {
      "name": "Untitled3.ipynb",
      "provenance": []
    },
    "kernelspec": {
      "name": "python3",
      "display_name": "Python 3"
    }
  },
  "cells": [
    {
      "cell_type": "markdown",
      "metadata": {
        "id": "je4snYgE6e89",
        "colab_type": "text"
      },
      "source": [
        "Assuming that we have some email addresses in the \"username@companyname.com\" format, please\n",
        "write a program to print the company name of a given email address. Both user names and company\n",
        "names are composed of letters only.\n",
        "Input Format:\n",
        "The first line of the input contains an email address.\n",
        "Output Format:\n",
        "Print the company name in a single line."
      ]
    },
    {
      "cell_type": "code",
      "metadata": {
        "id": "HZBPKmz96iUq",
        "colab_type": "code",
        "colab": {
          "base_uri": "https://localhost:8080/",
          "height": 51
        },
        "outputId": "27de4c77-b033-42da-84af-7bf115144b0a"
      },
      "source": [
        "user_mail_id=input(\"Enter mail id\")\n",
        "user_office_name=user_mail_id.split(\"@\")[1].split(\".\")[0]\n",
        "print(user_office_name)\n"
      ],
      "execution_count": null,
      "outputs": [
        {
          "output_type": "stream",
          "text": [
            "Enter mail idusername@companyname.com\n",
            "companyname\n"
          ],
          "name": "stdout"
        }
      ]
    },
    {
      "cell_type": "code",
      "metadata": {
        "id": "4il9NmxW7DT5",
        "colab_type": "code",
        "colab": {
          "base_uri": "https://localhost:8080/",
          "height": 34
        },
        "outputId": "65926486-9f36-4daf-ed6e-387bf19ca567"
      },
      "source": [
        "#second approch to solve first the problem \n",
        "import re\n",
        "print(re.findall('(.+)@(.+)\\.(.+)', user_mail_id)[0][1])\n"
      ],
      "execution_count": null,
      "outputs": [
        {
          "output_type": "stream",
          "text": [
            "companyname\n"
          ],
          "name": "stdout"
        }
      ]
    },
    {
      "cell_type": "markdown",
      "metadata": {
        "id": "lDeRJvz4B5I-",
        "colab_type": "text"
      },
      "source": [
        "Write a program that accepts a comma-separated sequence of words as input and prints the words in a\n",
        "comma-separated sequence after sorting them alphabetically."
      ]
    },
    {
      "cell_type": "code",
      "metadata": {
        "id": "C1iy4EFbB8Dm",
        "colab_type": "code",
        "colab": {
          "base_uri": "https://localhost:8080/",
          "height": 52
        },
        "outputId": "0af20ed6-dbda-42a4-a0c2-96d173f706b0"
      },
      "source": [
        "user_input=input(\"please enter comma seperated string\")\n",
        "user_input_lst=user_input.split(\",\")\n",
        "user_input_lst.sort()\n",
        "listToStr = ','.join(map(str, user_input_lst))\n",
        "listToStr"
      ],
      "execution_count": null,
      "outputs": [
        {
          "output_type": "stream",
          "text": [
            "please enter comma seperated stringwithout,hello,bag,world\n"
          ],
          "name": "stdout"
        },
        {
          "output_type": "execute_result",
          "data": {
            "application/vnd.google.colaboratory.intrinsic+json": {
              "type": "string"
            },
            "text/plain": [
              "'bag,hello,without,world'"
            ]
          },
          "metadata": {
            "tags": []
          },
          "execution_count": 16
        }
      ]
    },
    {
      "cell_type": "markdown",
      "metadata": {
        "id": "MVdCqXUGLLOW",
        "colab_type": "text"
      },
      "source": [
        "Create your own Jupyter Notebook for Sets. Reference link:\n",
        "https://www.w3schools.com/python/python_sets.asp"
      ]
    },
    {
      "cell_type": "code",
      "metadata": {
        "id": "CAQ2yV8FLNIV",
        "colab_type": "code",
        "colab": {
          "base_uri": "https://localhost:8080/",
          "height": 153
        },
        "outputId": "cdec9ec5-87d6-4b1d-ebdf-bb0b1c7f26ec"
      },
      "source": [
        "eliments_set={1,2,3}\n",
        "super_set={2, 4, 5, 10, 11, 12}\n",
        "\n",
        "#add eliment --unorderd and unindex \n",
        "eliments_set.add(1)\n",
        "eliments_set.add(2)\n",
        "eliments_set.add(3)\n",
        "eliments_set.add(4)\n",
        "eliments_set.add(5)\n",
        "eliments_set.add(5)\n",
        "\n",
        "#remove eliment \n",
        "eliments_set.remove(3)\n",
        "eliments_set.discard(4)\n",
        "\n",
        "#pop eliment \n",
        "eliments_set.pop()\n",
        "\n",
        "#update a set with any iterator collection\n",
        "eliments_set.update([10, 11, 12])\n",
        "val=eliments_set.issubset(super_set)\n",
        "val2=eliments_set.issuperset(super_set)\n",
        "\n",
        "print(\"intersection\",eliments_set.isdisjoint(super_set) )\n",
        "\n",
        "z = super_set.intersection(eliments_set) \n",
        "print(\"intersection\",z)\n",
        "\n",
        "x=super_set.difference(eliments_set)\n",
        "super_set.difference_update(eliments_set)\n",
        "print(x)\n",
        "print(y)\n",
        "print(super_set)\n",
        "\n",
        "print(\"is subset\",val)\n",
        "print(\"is superset\",val2)\n",
        "print(eliments_set.union(super_set))\n"
      ],
      "execution_count": 48,
      "outputs": [
        {
          "output_type": "stream",
          "text": [
            "intersection False\n",
            "intersection {2, 5, 10, 11, 12}\n",
            "{4}\n",
            "None\n",
            "{4}\n",
            "is subset True\n",
            "is superset False\n",
            "{2, 4, 5, 10, 11, 12}\n"
          ],
          "name": "stdout"
        }
      ]
    },
    {
      "cell_type": "markdown",
      "metadata": {
        "id": "G-ThYjJDqJ83",
        "colab_type": "text"
      },
      "source": [
        "Given a list of n-1 numbers ranging from 1 to n, your task is to find the missing number. There are no\n",
        "duplicates.\n",
        "Input Format:\n",
        "The first line contains n-1 numbers with each number separated by a space.\n",
        "Output Format:\n",
        "Print the missing number\n",
        "Example:\n",
        "Input:\n",
        "1 2 4 6 3 7 8\n",
        "Output:\n",
        "5\n",
        "\n"
      ]
    },
    {
      "cell_type": "code",
      "metadata": {
        "id": "qp9fS1aLqNN7",
        "colab_type": "code",
        "colab": {
          "base_uri": "https://localhost:8080/",
          "height": 51
        },
        "outputId": "dfe29555-4fcf-45e0-e049-ede8f5b96b73"
      },
      "source": [
        "user_input=input(\"Please enter numbers, maintaining space\")\n",
        "user_input_set=set(map(int,(set(user_input.split(\" \")))))\n",
        "maximum_limit=int(max(user_input_set))+1\n",
        "minimum_limit=int(min(user_input_set))\n",
        "prediction_set=set(list(range(minimum_limit,maximum_limit)))\n",
        "differnt_elm=prediction_set.difference(user_input_set)\n",
        "\n",
        "if len(differnt_elm)>0:\n",
        "  list(map(lambda x:print(\"missing eliment \",x),differnt_elm))\n",
        "else:\n",
        "  print(\"no missing eliment\")"
      ],
      "execution_count": 11,
      "outputs": [
        {
          "output_type": "stream",
          "text": [
            "Please enter numbers, maintaining space1 2 4 6 3 7 8\n",
            "missing eliment  5\n"
          ],
          "name": "stdout"
        }
      ]
    },
    {
      "cell_type": "markdown",
      "metadata": {
        "id": "LHdGLHsiHrQ-",
        "colab_type": "text"
      },
      "source": [
        "With a given list L, write a program to print this list L after removing all duplicate values with original order\n",
        "reserved.\n",
        "Example:\n",
        "If the input list is\n",
        "12 24 35 24 88 120 155 88 120 155\n",
        "Then the output should be\n",
        "12 24 35 88 120 155\n",
        "Explanation:\n",
        "Third, the seventh and ninth element of the list L has been removed because it was already present.\n",
        "Input Format:\n",
        "In one line take the elements of the list L with each element separated by a space.\n",
        "Output Format:\n",
        "Print the elements of the modified list in one line with each element separated by a space.\n",
        "Example:\n",
        "Input:\n",
        "12 24 35 24\n",
        "Output:\n",
        "12 24 35"
      ]
    },
    {
      "cell_type": "code",
      "metadata": {
        "id": "sLYjFO25HtyB",
        "colab_type": "code",
        "colab": {
          "base_uri": "https://localhost:8080/",
          "height": 51
        },
        "outputId": "25054dcc-525e-40a0-e1c0-b8d02b4f3df9"
      },
      "source": [
        "input_eliment=list(input(\"please enter comma seperated values\").split(\" \"))\n",
        "output_eliment=[]\n",
        "\n",
        "for x in input_eliment:\n",
        "  if x not in output_eliment:\n",
        "    output_eliment.append(x)\n",
        "\n",
        "\n",
        "print(output_eliment)\n",
        "\n"
      ],
      "execution_count": 19,
      "outputs": [
        {
          "output_type": "stream",
          "text": [
            "please enter comma seperated values12 24 35 24 88 120 155 88 120 155\n",
            "['12', '24', '35', '88', '120', '155']\n"
          ],
          "name": "stdout"
        }
      ]
    },
    {
      "cell_type": "code",
      "metadata": {
        "id": "i0WXYrFQs04Q",
        "colab_type": "code",
        "colab": {
          "base_uri": "https://localhost:8080/",
          "height": 34
        },
        "outputId": "1e422baf-713f-4345-9f5a-b8b49ae447a3"
      },
      "source": [
        "\n"
      ],
      "execution_count": 3,
      "outputs": [
        {
          "output_type": "execute_result",
          "data": {
            "text/plain": [
              "2"
            ]
          },
          "metadata": {
            "tags": []
          },
          "execution_count": 3
        }
      ]
    },
    {
      "cell_type": "code",
      "metadata": {
        "id": "Bihb09FkvJa9",
        "colab_type": "code",
        "colab": {}
      },
      "source": [
        ""
      ],
      "execution_count": null,
      "outputs": []
    }
  ]
}