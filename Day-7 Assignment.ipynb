{
 "cells": [
  {
   "cell_type": "code",
   "execution_count": 16,
   "metadata": {},
   "outputs": [],
   "source": [
    "\n",
    "file_1=open(\"letsupgrade_file1.txt\",'r')\n",
    "file_2=open(\"letsupgrade_file2.txt\",'w+')\n",
    "\n",
    "for line in file_1:\n",
    "    file_2.write(line)\n",
    "\n",
    "file_1.close()\n",
    "file_2.close()\n"
   ]
  },
  {
   "cell_type": "markdown",
   "metadata": {},
   "source": [
    "#Write a Python program to find maximum and minimum values in the dictionary. Do not use built-in min\n",
    "#and max functions."
   ]
  },
  {
   "cell_type": "code",
   "execution_count": 34,
   "metadata": {},
   "outputs": [
    {
     "name": "stdout",
     "output_type": "stream",
     "text": [
      "maximum value in dict 4\n",
      "minimum value in dict -1\n"
     ]
    }
   ],
   "source": [
    "dic_val={'a':1,'b':2,'c':4,'d':-1}\n",
    "\n",
    "\n",
    "\n",
    "for key in dic_val:\n",
    "    maximim_val=dic_val[key]if maximim_val<dic_val[key]else maximim_val\n",
    "    minimum_val=dic_val[key]if minimum_val>dic_val[key]else minimum_val\n",
    "    \n",
    "print(\"maximum value in dict\",maximim_val)\n",
    "print(\"minimum value in dict\", minimum_val)"
   ]
  }
 ],
 "metadata": {
  "kernelspec": {
   "display_name": "Python 3",
   "language": "python",
   "name": "python3"
  },
  "language_info": {
   "codemirror_mode": {
    "name": "ipython",
    "version": 3
   },
   "file_extension": ".py",
   "mimetype": "text/x-python",
   "name": "python",
   "nbconvert_exporter": "python",
   "pygments_lexer": "ipython3",
   "version": "3.6.5"
  }
 },
 "nbformat": 4,
 "nbformat_minor": 2
}
