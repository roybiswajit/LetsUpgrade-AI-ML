{
  "nbformat": 4,
  "nbformat_minor": 0,
  "metadata": {
    "colab": {
      "name": "Untitled1.ipynb",
      "provenance": []
    },
    "kernelspec": {
      "name": "python3",
      "display_name": "Python 3"
    }
  },
  "cells": [
    {
      "cell_type": "markdown",
      "metadata": {
        "id": "oYPM7l6SbUMD",
        "colab_type": "text"
      },
      "source": [
        "Research on whether addition, subtraction, multiplication, division, floor division, and modulo operations\n",
        "be performed on complex numbers. Based on your study, implement a Python program to demonstrate\n",
        "these operations."
      ]
    },
    {
      "cell_type": "code",
      "metadata": {
        "id": "Xd0_Og4cF2BP",
        "colab_type": "code",
        "colab": {
          "base_uri": "https://localhost:8080/",
          "height": 85
        },
        "outputId": "295cc250-b2bc-4730-f049-034d87bc931c"
      },
      "source": [
        "num1=2+3j\n",
        "num2=3+5j\n",
        "\n",
        "print(\"adition is\",num1+num2)\n",
        "print(\"substraction is\",num1-num2)\n",
        "print(\"multiplication is\",num1*num2)\n",
        "print(\"division is\",num1/num2)\n",
        "#print(\"floor division is\",num1//num2) - not allowed in python 3\n",
        "#print(\"module  is\",num1%num2) -- not allowed in python 3"
      ],
      "execution_count": 15,
      "outputs": [
        {
          "output_type": "stream",
          "text": [
            "adition is (5+8j)\n",
            "substraction is (-1-2j)\n",
            "multiplication is (-9+19j)\n",
            "division is (0.6176470588235294-0.02941176470588238j)\n"
          ],
          "name": "stdout"
        }
      ]
    },
    {
      "cell_type": "markdown",
      "metadata": {
        "id": "M7p21z7Wdhdp",
        "colab_type": "text"
      },
      "source": [
        "Research on range() functions and its parameters. Create a markdown cell and write in your own words\n",
        "(no copy-paste from google please) what you understand about it. Implement a small program of your\n",
        "choice on the same."
      ]
    },
    {
      "cell_type": "markdown",
      "metadata": {
        "id": "Vj_i9x_ld852",
        "colab_type": "text"
      },
      "source": [
        "Range function is a built in function in python3. This function offers the number of iteration of a given number & often use with for/while loop. This buildin function takes three argument, out of which two argument are optional. By defult it takes the stop value & other two optional values as endvalue of the range, step size. \n",
        "\n"
      ]
    },
    {
      "cell_type": "code",
      "metadata": {
        "id": "EXNtXr1feQyB",
        "colab_type": "code",
        "colab": {
          "base_uri": "https://localhost:8080/",
          "height": 476
        },
        "outputId": "ea3fd476-c3c2-4ee8-bbf1-e14a8c2750f3"
      },
      "source": [
        "#defult param\n",
        "for item in range(10):\n",
        "  print(item)\n",
        "print(\"----------------------------------------------------------\")\n",
        "#start and end param\n",
        "for item in range(10,20):\n",
        "  print(item)\n",
        "print(\"----------------------------------------------------------\")\n",
        "#start end param with step size\n",
        "for item in range(10,20,2):\n",
        "  print(item)\n",
        "  "
      ],
      "execution_count": 25,
      "outputs": [
        {
          "output_type": "stream",
          "text": [
            "0\n",
            "1\n",
            "2\n",
            "3\n",
            "4\n",
            "5\n",
            "6\n",
            "7\n",
            "8\n",
            "9\n",
            "----------------------------------------------------------\n",
            "10\n",
            "11\n",
            "12\n",
            "13\n",
            "14\n",
            "15\n",
            "16\n",
            "17\n",
            "18\n",
            "19\n",
            "----------------------------------------------------------\n",
            "10\n",
            "12\n",
            "14\n",
            "16\n",
            "18\n"
          ],
          "name": "stdout"
        }
      ]
    },
    {
      "cell_type": "markdown",
      "metadata": {
        "id": "Z39iaGGyF27q",
        "colab_type": "text"
      },
      "source": [
        "Consider two numbers. Perform their subtraction and if the result of subtraction is greater than 25, print\n",
        "their multiplication result else print their division result."
      ]
    },
    {
      "cell_type": "code",
      "metadata": {
        "id": "AEzIalyMF4Uk",
        "colab_type": "code",
        "colab": {
          "base_uri": "https://localhost:8080/",
          "height": 68
        },
        "outputId": "6470e383-7e81-4344-e3e4-a3e7c7051185"
      },
      "source": [
        "num1=int(input(\"enter your first number\"))\n",
        "num2=int(input(\"enter your second number\"))\n",
        "result=num1-num2\n",
        "if result>25:\n",
        "  print(\"result is\",num1*num2)\n",
        "else:\n",
        "  print(\"result is\",num1/num2)\n"
      ],
      "execution_count": 9,
      "outputs": [
        {
          "output_type": "stream",
          "text": [
            "enter your first number40\n",
            "enter your second number20\n",
            "result is 2.0\n"
          ],
          "name": "stdout"
        }
      ]
    },
    {
      "cell_type": "markdown",
      "metadata": {
        "id": "PSedHK_5f2-k",
        "colab_type": "text"
      },
      "source": [
        "Consider a list of 10 elements of integer values. If the number in the list is divisible by 2, print the result as\n",
        "\"square of that number minus 2\"."
      ]
    },
    {
      "cell_type": "code",
      "metadata": {
        "id": "lekCMt5jf4pv",
        "colab_type": "code",
        "colab": {
          "base_uri": "https://localhost:8080/",
          "height": 102
        },
        "outputId": "22649cee-e9bb-4f0c-8445-d04f6a61681e"
      },
      "source": [
        "eliment_list=[1,2,3,4,5,6,7,8,9,10]\n",
        "\n",
        "for item in eliment_list:\n",
        "  if item%2==0:\n",
        "    print(\"result\", (item**2)-2)"
      ],
      "execution_count": 26,
      "outputs": [
        {
          "output_type": "stream",
          "text": [
            "result 2\n",
            "result 14\n",
            "result 34\n",
            "result 62\n",
            "result 98\n"
          ],
          "name": "stdout"
        }
      ]
    },
    {
      "cell_type": "markdown",
      "metadata": {
        "id": "Vh1Lh0iIghE8",
        "colab_type": "text"
      },
      "source": [
        "Consider a list of 10 elements. Print all the elements in the list which are greater than 7 when that number\n",
        "is divided 2."
      ]
    },
    {
      "cell_type": "code",
      "metadata": {
        "id": "xVdLXjqYgiN7",
        "colab_type": "code",
        "colab": {
          "base_uri": "https://localhost:8080/",
          "height": 68
        },
        "outputId": "3037e0dc-8abe-4691-a3d4-c8027e27b3e2"
      },
      "source": [
        "eliment_list=[1,2,3,4,5,6,7,8,9,10] \n",
        "\n",
        "for item in eliment_list:\n",
        "  if item>7:\n",
        "    print(\"result\", item/2)\n"
      ],
      "execution_count": 27,
      "outputs": [
        {
          "output_type": "stream",
          "text": [
            "result 4.0\n",
            "result 4.5\n",
            "result 5.0\n"
          ],
          "name": "stdout"
        }
      ]
    }
  ]
}