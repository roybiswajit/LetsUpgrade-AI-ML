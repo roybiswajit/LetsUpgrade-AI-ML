{
  "nbformat": 4,
  "nbformat_minor": 0,
  "metadata": {
    "colab": {
      "name": "Untitled4.ipynb",
      "provenance": []
    },
    "kernelspec": {
      "name": "python3",
      "display_name": "Python 3"
    }
  },
  "cells": [
    {
      "cell_type": "markdown",
      "metadata": {
        "id": "BsVWuLepkLNV",
        "colab_type": "text"
      },
      "source": [
        ""
      ]
    },
    {
      "cell_type": "code",
      "metadata": {
        "id": "Kg05p104kT5A",
        "colab_type": "code",
        "colab": {
          "base_uri": "https://localhost:8080/",
          "height": 68
        },
        "outputId": "4e174552-cdce-4191-b313-c28dab8e2ee5"
      },
      "source": [
        "import numpy as np\n",
        "\n",
        "print(np.zeros(10,dtype=int))\n",
        "print(np.ones(10,dtype=int))\n",
        "print(np.ones(10,dtype=int)*5)"
      ],
      "execution_count": null,
      "outputs": [
        {
          "output_type": "stream",
          "text": [
            "[0 0 0 0 0 0 0 0 0 0]\n",
            "[1 1 1 1 1 1 1 1 1 1]\n",
            "[5 5 5 5 5 5 5 5 5 5]\n"
          ],
          "name": "stdout"
        }
      ]
    },
    {
      "cell_type": "markdown",
      "metadata": {
        "id": "XskCQekgkioF",
        "colab_type": "text"
      },
      "source": [
        "Write a NumPy program to compute sum of all elements, sum of each column and sum of each row of a\n",
        "given array"
      ]
    },
    {
      "cell_type": "code",
      "metadata": {
        "id": "bOGvDksXkj8x",
        "colab_type": "code",
        "colab": {
          "base_uri": "https://localhost:8080/",
          "height": 102
        },
        "outputId": "542f12af-2812-4972-8d9c-495eb99adcf1"
      },
      "source": [
        "arr=np.arange(1,11).reshape(2,5)\n",
        "\n",
        "print(arr)\n",
        "\n",
        "print (\"total sum of array\",np.sum(arr))\n",
        "\n",
        "print (\"sum of each colums of array\",np.sum(arr,axis=0))\n",
        "\n",
        "print (\"sum of each row of array\",np.sum(arr,axis=1))\n",
        "\n",
        "\n"
      ],
      "execution_count": null,
      "outputs": [
        {
          "output_type": "stream",
          "text": [
            "[[ 1  2  3  4  5]\n",
            " [ 6  7  8  9 10]]\n",
            "total sum of array 55\n",
            "sum of each colums of array [ 7  9 11 13 15]\n",
            "sum of each row of array [15 40]\n"
          ],
          "name": "stdout"
        }
      ]
    },
    {
      "cell_type": "markdown",
      "metadata": {
        "id": "qX-6iVOgnDqT",
        "colab_type": "text"
      },
      "source": [
        "Write a NumPy program to add, subtract, multiply, divide arguments element-wise."
      ]
    },
    {
      "cell_type": "code",
      "metadata": {
        "id": "jO_o0LS6nFO_",
        "colab_type": "code",
        "colab": {
          "base_uri": "https://localhost:8080/",
          "height": 612
        },
        "outputId": "6fff5232-2b2c-414e-ce61-5609e6ec57ea"
      },
      "source": [
        "arr=np.arange(1,26).reshape(5,5)\n",
        "\n",
        "\n",
        "print(\"array is \\n\",arr)\n",
        "print(\"after adding value to each eliment \\n\",np.add(arr,2))\n",
        "print(\"after substracting value to each eliment \\n\",np.subtract(arr,1))\n",
        "print(\"after divideing value to each eliment \\n\",np.divide(arr,5))\n",
        "print(\"after multiplying value to each eliment \\n\",np.multiply(arr,5))\n",
        "\n",
        "print(np.multiply(arr,5))"
      ],
      "execution_count": null,
      "outputs": [
        {
          "output_type": "stream",
          "text": [
            "array is \n",
            " [[ 1  2  3  4  5]\n",
            " [ 6  7  8  9 10]\n",
            " [11 12 13 14 15]\n",
            " [16 17 18 19 20]\n",
            " [21 22 23 24 25]]\n",
            "after adding value to each eliment \n",
            " [[ 3  4  5  6  7]\n",
            " [ 8  9 10 11 12]\n",
            " [13 14 15 16 17]\n",
            " [18 19 20 21 22]\n",
            " [23 24 25 26 27]]\n",
            "after substracting value to each eliment \n",
            " [[ 0  1  2  3  4]\n",
            " [ 5  6  7  8  9]\n",
            " [10 11 12 13 14]\n",
            " [15 16 17 18 19]\n",
            " [20 21 22 23 24]]\n",
            "after divideing value to each eliment \n",
            " [[0.2 0.4 0.6 0.8 1. ]\n",
            " [1.2 1.4 1.6 1.8 2. ]\n",
            " [2.2 2.4 2.6 2.8 3. ]\n",
            " [3.2 3.4 3.6 3.8 4. ]\n",
            " [4.2 4.4 4.6 4.8 5. ]]\n",
            "after multiplying value to each eliment \n",
            " [[  5  10  15  20  25]\n",
            " [ 30  35  40  45  50]\n",
            " [ 55  60  65  70  75]\n",
            " [ 80  85  90  95 100]\n",
            " [105 110 115 120 125]]\n",
            "[[  5  10  15  20  25]\n",
            " [ 30  35  40  45  50]\n",
            " [ 55  60  65  70  75]\n",
            " [ 80  85  90  95 100]\n",
            " [105 110 115 120 125]]\n"
          ],
          "name": "stdout"
        }
      ]
    },
    {
      "cell_type": "markdown",
      "metadata": {
        "id": "psKpGfMTpIy7",
        "colab_type": "text"
      },
      "source": [
        "Write a NumPy program to compute the trigonometric sine, cosine and tangent array of angles given in\n",
        "degree."
      ]
    },
    {
      "cell_type": "code",
      "metadata": {
        "id": "SELn403bpRVA",
        "colab_type": "code",
        "colab": {
          "base_uri": "https://localhost:8080/",
          "height": 204
        },
        "outputId": "e3f31d9d-d76f-49d9-bd08-ce628a3b72d5"
      },
      "source": [
        "arr=np.arange(10)\n",
        "print(\"array \\n\",arr)\n",
        "print(\"sin \\n\",np.sin(arr*np.pi/180))\n",
        "print(\"cos \\n\",np.cos(arr*np.pi/180))\n",
        "print(\"tan \\n\",np.tan(arr*np.pi/180))\n"
      ],
      "execution_count": null,
      "outputs": [
        {
          "output_type": "stream",
          "text": [
            "array \n",
            " [0 1 2 3 4 5 6 7 8 9]\n",
            "sin \n",
            " [0.         0.01745241 0.0348995  0.05233596 0.06975647 0.08715574\n",
            " 0.10452846 0.12186934 0.1391731  0.15643447]\n",
            "cos \n",
            " [1.         0.9998477  0.99939083 0.99862953 0.99756405 0.9961947\n",
            " 0.9945219  0.99254615 0.99026807 0.98768834]\n",
            "tan \n",
            " [0.         0.01745506 0.03492077 0.05240778 0.06992681 0.08748866\n",
            " 0.10510424 0.12278456 0.14054083 0.15838444]\n"
          ],
          "name": "stdout"
        }
      ]
    },
    {
      "cell_type": "markdown",
      "metadata": {
        "id": "F7qhy5XPrKPE",
        "colab_type": "text"
      },
      "source": [
        "Write a Pandas program to create and display a DataFrame from a specified dictionary data which has the\n",
        "index labels"
      ]
    },
    {
      "cell_type": "code",
      "metadata": {
        "id": "8Leq7Cc4rNUb",
        "colab_type": "code",
        "colab": {
          "base_uri": "https://localhost:8080/",
          "height": 235
        },
        "outputId": "b43916c0-2734-4808-fbed-709af874c771"
      },
      "source": [
        "import pandas as pd\n",
        "dic={\"elm1\":1,\"elm2\":2,\"elm3\":3,\"elm4\":4,\"elm5\":5,\"elm6\":6}\n",
        "df=pd.DataFrame(dic.items())\n",
        "df"
      ],
      "execution_count": 12,
      "outputs": [
        {
          "output_type": "execute_result",
          "data": {
            "text/html": [
              "<div>\n",
              "<style scoped>\n",
              "    .dataframe tbody tr th:only-of-type {\n",
              "        vertical-align: middle;\n",
              "    }\n",
              "\n",
              "    .dataframe tbody tr th {\n",
              "        vertical-align: top;\n",
              "    }\n",
              "\n",
              "    .dataframe thead th {\n",
              "        text-align: right;\n",
              "    }\n",
              "</style>\n",
              "<table border=\"1\" class=\"dataframe\">\n",
              "  <thead>\n",
              "    <tr style=\"text-align: right;\">\n",
              "      <th></th>\n",
              "      <th>0</th>\n",
              "      <th>1</th>\n",
              "    </tr>\n",
              "  </thead>\n",
              "  <tbody>\n",
              "    <tr>\n",
              "      <th>0</th>\n",
              "      <td>elm1</td>\n",
              "      <td>1</td>\n",
              "    </tr>\n",
              "    <tr>\n",
              "      <th>1</th>\n",
              "      <td>elm2</td>\n",
              "      <td>2</td>\n",
              "    </tr>\n",
              "    <tr>\n",
              "      <th>2</th>\n",
              "      <td>elm3</td>\n",
              "      <td>3</td>\n",
              "    </tr>\n",
              "    <tr>\n",
              "      <th>3</th>\n",
              "      <td>elm4</td>\n",
              "      <td>4</td>\n",
              "    </tr>\n",
              "    <tr>\n",
              "      <th>4</th>\n",
              "      <td>elm5</td>\n",
              "      <td>5</td>\n",
              "    </tr>\n",
              "    <tr>\n",
              "      <th>5</th>\n",
              "      <td>elm6</td>\n",
              "      <td>6</td>\n",
              "    </tr>\n",
              "  </tbody>\n",
              "</table>\n",
              "</div>"
            ],
            "text/plain": [
              "      0  1\n",
              "0  elm1  1\n",
              "1  elm2  2\n",
              "2  elm3  3\n",
              "3  elm4  4\n",
              "4  elm5  5\n",
              "5  elm6  6"
            ]
          },
          "metadata": {
            "tags": []
          },
          "execution_count": 12
        }
      ]
    },
    {
      "cell_type": "markdown",
      "metadata": {
        "id": "c_040X4-3z-M",
        "colab_type": "text"
      },
      "source": [
        "Write a Pandas program to join the two given dataframes along rows and assign all data."
      ]
    },
    {
      "cell_type": "code",
      "metadata": {
        "id": "5ULynKC730Uu",
        "colab_type": "code",
        "colab": {
          "base_uri": "https://localhost:8080/",
          "height": 382
        },
        "outputId": "a06c98ef-0d0f-42af-8076-499ca44dd7dd"
      },
      "source": [
        "dic1={'Name':['A', 'B', 'C', 'D'],'Age':[28,34,29,42]}\n",
        "dic2={'address':['Bengaluru', 'Chennai', 'Pune', 'Mumbai'],'pincode':[123,456,789,456]}\n",
        "datafrm_1=pd.DataFrame(dic1)\n",
        "datafrm_2=pd.DataFrame(dic2)\n",
        "print(pd.concat([datafrm_1, datafrm_2], axis=1))\n",
        "\n",
        "df=pd.concat([datafrm_1, datafrm_2], axis=0)\n",
        "df2=df.copy()\n",
        "df.fillna(\"Not Available\")\n",
        "\n"
      ],
      "execution_count": 39,
      "outputs": [
        {
          "output_type": "stream",
          "text": [
            "  Name  Age    address  pincode\n",
            "0    A   28  Bengaluru      123\n",
            "1    B   34    Chennai      456\n",
            "2    C   29       Pune      789\n",
            "3    D   42     Mumbai      456\n"
          ],
          "name": "stdout"
        },
        {
          "output_type": "execute_result",
          "data": {
            "text/html": [
              "<div>\n",
              "<style scoped>\n",
              "    .dataframe tbody tr th:only-of-type {\n",
              "        vertical-align: middle;\n",
              "    }\n",
              "\n",
              "    .dataframe tbody tr th {\n",
              "        vertical-align: top;\n",
              "    }\n",
              "\n",
              "    .dataframe thead th {\n",
              "        text-align: right;\n",
              "    }\n",
              "</style>\n",
              "<table border=\"1\" class=\"dataframe\">\n",
              "  <thead>\n",
              "    <tr style=\"text-align: right;\">\n",
              "      <th></th>\n",
              "      <th>Name</th>\n",
              "      <th>Age</th>\n",
              "      <th>address</th>\n",
              "      <th>pincode</th>\n",
              "    </tr>\n",
              "  </thead>\n",
              "  <tbody>\n",
              "    <tr>\n",
              "      <th>0</th>\n",
              "      <td>A</td>\n",
              "      <td>28</td>\n",
              "      <td>Not Available</td>\n",
              "      <td>Not Available</td>\n",
              "    </tr>\n",
              "    <tr>\n",
              "      <th>1</th>\n",
              "      <td>B</td>\n",
              "      <td>34</td>\n",
              "      <td>Not Available</td>\n",
              "      <td>Not Available</td>\n",
              "    </tr>\n",
              "    <tr>\n",
              "      <th>2</th>\n",
              "      <td>C</td>\n",
              "      <td>29</td>\n",
              "      <td>Not Available</td>\n",
              "      <td>Not Available</td>\n",
              "    </tr>\n",
              "    <tr>\n",
              "      <th>3</th>\n",
              "      <td>D</td>\n",
              "      <td>42</td>\n",
              "      <td>Not Available</td>\n",
              "      <td>Not Available</td>\n",
              "    </tr>\n",
              "    <tr>\n",
              "      <th>0</th>\n",
              "      <td>Not Available</td>\n",
              "      <td>Not Available</td>\n",
              "      <td>Bengaluru</td>\n",
              "      <td>123</td>\n",
              "    </tr>\n",
              "    <tr>\n",
              "      <th>1</th>\n",
              "      <td>Not Available</td>\n",
              "      <td>Not Available</td>\n",
              "      <td>Chennai</td>\n",
              "      <td>456</td>\n",
              "    </tr>\n",
              "    <tr>\n",
              "      <th>2</th>\n",
              "      <td>Not Available</td>\n",
              "      <td>Not Available</td>\n",
              "      <td>Pune</td>\n",
              "      <td>789</td>\n",
              "    </tr>\n",
              "    <tr>\n",
              "      <th>3</th>\n",
              "      <td>Not Available</td>\n",
              "      <td>Not Available</td>\n",
              "      <td>Mumbai</td>\n",
              "      <td>456</td>\n",
              "    </tr>\n",
              "  </tbody>\n",
              "</table>\n",
              "</div>"
            ],
            "text/plain": [
              "            Name            Age        address        pincode\n",
              "0              A             28  Not Available  Not Available\n",
              "1              B             34  Not Available  Not Available\n",
              "2              C             29  Not Available  Not Available\n",
              "3              D             42  Not Available  Not Available\n",
              "0  Not Available  Not Available      Bengaluru            123\n",
              "1  Not Available  Not Available        Chennai            456\n",
              "2  Not Available  Not Available           Pune            789\n",
              "3  Not Available  Not Available         Mumbai            456"
            ]
          },
          "metadata": {
            "tags": []
          },
          "execution_count": 39
        }
      ]
    },
    {
      "cell_type": "markdown",
      "metadata": {
        "id": "ANT5z9ek30-7",
        "colab_type": "text"
      },
      "source": [
        "Write a Pandas program to detect missing values of a given DataFrame. Display True or False.\n",
        "\n",
        "*   List item\n",
        "*   List item\n",
        "\n"
      ]
    },
    {
      "cell_type": "code",
      "metadata": {
        "id": "XiQUG88g9BFI",
        "colab_type": "code",
        "colab": {
          "base_uri": "https://localhost:8080/",
          "height": 297
        },
        "outputId": "defced5d-d48a-4f32-8ef8-19059a022833"
      },
      "source": [
        "df.isna()"
      ],
      "execution_count": 29,
      "outputs": [
        {
          "output_type": "execute_result",
          "data": {
            "text/html": [
              "<div>\n",
              "<style scoped>\n",
              "    .dataframe tbody tr th:only-of-type {\n",
              "        vertical-align: middle;\n",
              "    }\n",
              "\n",
              "    .dataframe tbody tr th {\n",
              "        vertical-align: top;\n",
              "    }\n",
              "\n",
              "    .dataframe thead th {\n",
              "        text-align: right;\n",
              "    }\n",
              "</style>\n",
              "<table border=\"1\" class=\"dataframe\">\n",
              "  <thead>\n",
              "    <tr style=\"text-align: right;\">\n",
              "      <th></th>\n",
              "      <th>Name</th>\n",
              "      <th>Age</th>\n",
              "      <th>address</th>\n",
              "      <th>pincode</th>\n",
              "    </tr>\n",
              "  </thead>\n",
              "  <tbody>\n",
              "    <tr>\n",
              "      <th>0</th>\n",
              "      <td>False</td>\n",
              "      <td>False</td>\n",
              "      <td>True</td>\n",
              "      <td>True</td>\n",
              "    </tr>\n",
              "    <tr>\n",
              "      <th>1</th>\n",
              "      <td>False</td>\n",
              "      <td>False</td>\n",
              "      <td>True</td>\n",
              "      <td>True</td>\n",
              "    </tr>\n",
              "    <tr>\n",
              "      <th>2</th>\n",
              "      <td>False</td>\n",
              "      <td>False</td>\n",
              "      <td>True</td>\n",
              "      <td>True</td>\n",
              "    </tr>\n",
              "    <tr>\n",
              "      <th>3</th>\n",
              "      <td>False</td>\n",
              "      <td>False</td>\n",
              "      <td>True</td>\n",
              "      <td>True</td>\n",
              "    </tr>\n",
              "    <tr>\n",
              "      <th>0</th>\n",
              "      <td>True</td>\n",
              "      <td>True</td>\n",
              "      <td>False</td>\n",
              "      <td>False</td>\n",
              "    </tr>\n",
              "    <tr>\n",
              "      <th>1</th>\n",
              "      <td>True</td>\n",
              "      <td>True</td>\n",
              "      <td>False</td>\n",
              "      <td>False</td>\n",
              "    </tr>\n",
              "    <tr>\n",
              "      <th>2</th>\n",
              "      <td>True</td>\n",
              "      <td>True</td>\n",
              "      <td>False</td>\n",
              "      <td>False</td>\n",
              "    </tr>\n",
              "    <tr>\n",
              "      <th>3</th>\n",
              "      <td>True</td>\n",
              "      <td>True</td>\n",
              "      <td>False</td>\n",
              "      <td>False</td>\n",
              "    </tr>\n",
              "  </tbody>\n",
              "</table>\n",
              "</div>"
            ],
            "text/plain": [
              "    Name    Age  address  pincode\n",
              "0  False  False     True     True\n",
              "1  False  False     True     True\n",
              "2  False  False     True     True\n",
              "3  False  False     True     True\n",
              "0   True   True    False    False\n",
              "1   True   True    False    False\n",
              "2   True   True    False    False\n",
              "3   True   True    False    False"
            ]
          },
          "metadata": {
            "tags": []
          },
          "execution_count": 29
        }
      ]
    },
    {
      "cell_type": "markdown",
      "metadata": {
        "id": "onwG53hP9mMQ",
        "colab_type": "text"
      },
      "source": [
        "Write a Pandas program to create and display a one-dimensional array-like object containing an array of\n",
        "data."
      ]
    },
    {
      "cell_type": "code",
      "metadata": {
        "id": "q1eqvePa9nJ3",
        "colab_type": "code",
        "colab": {
          "base_uri": "https://localhost:8080/",
          "height": 187
        },
        "outputId": "bff7c380-3780-4cea-a9fb-3b836bb01e50"
      },
      "source": [
        "pd.Series([1,2,3,4,5,6,7,8,9])\n"
      ],
      "execution_count": 34,
      "outputs": [
        {
          "output_type": "execute_result",
          "data": {
            "text/plain": [
              "0    1\n",
              "1    2\n",
              "2    3\n",
              "3    4\n",
              "4    5\n",
              "5    6\n",
              "6    7\n",
              "7    8\n",
              "8    9\n",
              "dtype: int64"
            ]
          },
          "metadata": {
            "tags": []
          },
          "execution_count": 34
        }
      ]
    }
  ]
}